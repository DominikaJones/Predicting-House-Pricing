{
 "cells": [
  {
   "cell_type": "code",
   "execution_count": 36,
   "metadata": {},
   "outputs": [],
   "source": [
    "import pandas as pd\n",
    "import numpy as np\n",
    "import matplotlib.pyplot as plt\n",
    "import seaborn as sns\n",
    "import sklearn.metrics as metrics\n",
    "import sklearn.linear_model as linear_model\n",
    "from sklearn.metrics import r2_score, mean_squared_error\n",
    "from sklearn.linear_model import LinearRegression\n",
    "from sklearn.linear_model import Ridge, Lasso\n",
    "from sklearn.preprocessing import PolynomialFeatures, StandardScaler\n",
    "from sklearn.model_selection import train_test_split, cross_val_score, cross_val_predict\n",
    "import scipy.stats as stats\n",
    "from scipy.stats import norm, skew\n",
    "from math import sqrt"
   ]
  },
  {
   "cell_type": "code",
   "execution_count": 2,
   "metadata": {},
   "outputs": [],
   "source": [
    "random_state = np.random.RandomState(42)"
   ]
  },
  {
   "cell_type": "code",
   "execution_count": 3,
   "metadata": {},
   "outputs": [],
   "source": [
    "df = pd.read_csv('data/train_model_final.csv')"
   ]
  },
  {
   "cell_type": "code",
   "execution_count": 4,
   "metadata": {},
   "outputs": [],
   "source": [
    "df2 = pd.read_csv('data/test_model_final.csv')"
   ]
  },
  {
   "cell_type": "code",
   "execution_count": 5,
   "metadata": {},
   "outputs": [
    {
     "name": "stdout",
     "output_type": "stream",
     "text": [
      "<class 'pandas.core.frame.DataFrame'>\n",
      "RangeIndex: 2051 entries, 0 to 2050\n",
      "Data columns (total 55 columns):\n",
      " #   Column            Non-Null Count  Dtype  \n",
      "---  ------            --------------  -----  \n",
      " 0   Unnamed: 0        2051 non-null   int64  \n",
      " 1   id                2051 non-null   int64  \n",
      " 2   lot_frontage      2051 non-null   float64\n",
      " 3   lot_area          2051 non-null   int64  \n",
      " 4   overall_qual      2051 non-null   int64  \n",
      " 5   mas_vnr_area      2051 non-null   float64\n",
      " 6   bsmt_qual         2051 non-null   int64  \n",
      " 7   total_bsmt_sf     2051 non-null   float64\n",
      " 8   gr_liv_area       2051 non-null   int64  \n",
      " 9   totrms_abvgrd     2051 non-null   int64  \n",
      " 10  garage_cars       2051 non-null   float64\n",
      " 11  garage_qual       2051 non-null   int64  \n",
      " 12  garage_cond       2051 non-null   int64  \n",
      " 13  saleprice         2051 non-null   int64  \n",
      " 14  total_baths       2051 non-null   float64\n",
      " 15  has_bsmt          2051 non-null   int64  \n",
      " 16  has_fireplace     2051 non-null   int64  \n",
      " 17  has_porch         2051 non-null   int64  \n",
      " 18  has_2nd_flr       2051 non-null   int64  \n",
      " 19  nabe_Blmngtn      2051 non-null   int64  \n",
      " 20  nabe_Blueste      2051 non-null   int64  \n",
      " 21  nabe_BrDale       2051 non-null   int64  \n",
      " 22  nabe_BrkSide      2051 non-null   int64  \n",
      " 23  nabe_ClearCr      2051 non-null   int64  \n",
      " 24  nabe_CollgCr      2051 non-null   int64  \n",
      " 25  nabe_Crawfor      2051 non-null   int64  \n",
      " 26  nabe_Edwards      2051 non-null   int64  \n",
      " 27  nabe_Gilbert      2051 non-null   int64  \n",
      " 28  nabe_Greens       2051 non-null   int64  \n",
      " 29  nabe_IDOTRR       2051 non-null   int64  \n",
      " 30  nabe_MeadowV      2051 non-null   int64  \n",
      " 31  nabe_Mitchel      2051 non-null   int64  \n",
      " 32  nabe_NAmes        2051 non-null   int64  \n",
      " 33  nabe_NPkVill      2051 non-null   int64  \n",
      " 34  nabe_NWAmes       2051 non-null   int64  \n",
      " 35  nabe_NoRidge      2051 non-null   int64  \n",
      " 36  nabe_NridgHt      2051 non-null   int64  \n",
      " 37  nabe_OldTown      2051 non-null   int64  \n",
      " 38  nabe_SWISU        2051 non-null   int64  \n",
      " 39  nabe_Sawyer       2051 non-null   int64  \n",
      " 40  nabe_SawyerW      2051 non-null   int64  \n",
      " 41  nabe_Somerst      2051 non-null   int64  \n",
      " 42  nabe_StoneBr      2051 non-null   int64  \n",
      " 43  nabe_Timber       2051 non-null   int64  \n",
      " 44  nabe_Veenker      2051 non-null   int64  \n",
      " 45  house_type_1Fam   2051 non-null   int64  \n",
      " 46  house_type_2_fam  2051 non-null   int64  \n",
      " 47  house_type_Twnhs  2051 non-null   int64  \n",
      " 48  fnd_BrkTil        2051 non-null   int64  \n",
      " 49  fnd_CBlock        2051 non-null   int64  \n",
      " 50  fnd_PConc         2051 non-null   int64  \n",
      " 51  house_age         2051 non-null   int64  \n",
      " 52  remod_age         2051 non-null   int64  \n",
      " 53  new_house         2051 non-null   int64  \n",
      " 54  new_remod         2051 non-null   int64  \n",
      "dtypes: float64(5), int64(50)\n",
      "memory usage: 881.4 KB\n"
     ]
    }
   ],
   "source": [
    "df.info()"
   ]
  },
  {
   "cell_type": "code",
   "execution_count": 6,
   "metadata": {},
   "outputs": [
    {
     "data": {
      "text/plain": [
       "(2051, 55)"
      ]
     },
     "execution_count": 6,
     "metadata": {},
     "output_type": "execute_result"
    }
   ],
   "source": [
    "df.shape"
   ]
  },
  {
   "cell_type": "code",
   "execution_count": 7,
   "metadata": {},
   "outputs": [
    {
     "data": {
      "text/html": [
       "<div>\n",
       "<style scoped>\n",
       "    .dataframe tbody tr th:only-of-type {\n",
       "        vertical-align: middle;\n",
       "    }\n",
       "\n",
       "    .dataframe tbody tr th {\n",
       "        vertical-align: top;\n",
       "    }\n",
       "\n",
       "    .dataframe thead th {\n",
       "        text-align: right;\n",
       "    }\n",
       "</style>\n",
       "<table border=\"1\" class=\"dataframe\">\n",
       "  <thead>\n",
       "    <tr style=\"text-align: right;\">\n",
       "      <th></th>\n",
       "      <th>Unnamed: 0</th>\n",
       "      <th>id</th>\n",
       "      <th>lot_frontage</th>\n",
       "      <th>lot_area</th>\n",
       "      <th>overall_qual</th>\n",
       "      <th>mas_vnr_area</th>\n",
       "      <th>bsmt_qual</th>\n",
       "      <th>total_bsmt_sf</th>\n",
       "      <th>gr_liv_area</th>\n",
       "      <th>totrms_abvgrd</th>\n",
       "      <th>...</th>\n",
       "      <th>house_type_1Fam</th>\n",
       "      <th>house_type_2_fam</th>\n",
       "      <th>house_type_Twnhs</th>\n",
       "      <th>fnd_BrkTil</th>\n",
       "      <th>fnd_CBlock</th>\n",
       "      <th>fnd_PConc</th>\n",
       "      <th>house_age</th>\n",
       "      <th>remod_age</th>\n",
       "      <th>new_house</th>\n",
       "      <th>new_remod</th>\n",
       "    </tr>\n",
       "  </thead>\n",
       "  <tbody>\n",
       "    <tr>\n",
       "      <th>0</th>\n",
       "      <td>0</td>\n",
       "      <td>109</td>\n",
       "      <td>69.0552</td>\n",
       "      <td>13517</td>\n",
       "      <td>6</td>\n",
       "      <td>289.0</td>\n",
       "      <td>3</td>\n",
       "      <td>725.0</td>\n",
       "      <td>1479</td>\n",
       "      <td>6</td>\n",
       "      <td>...</td>\n",
       "      <td>1</td>\n",
       "      <td>0</td>\n",
       "      <td>0</td>\n",
       "      <td>0</td>\n",
       "      <td>1</td>\n",
       "      <td>0</td>\n",
       "      <td>34</td>\n",
       "      <td>5</td>\n",
       "      <td>0</td>\n",
       "      <td>1</td>\n",
       "    </tr>\n",
       "    <tr>\n",
       "      <th>1</th>\n",
       "      <td>1</td>\n",
       "      <td>544</td>\n",
       "      <td>43.0000</td>\n",
       "      <td>11492</td>\n",
       "      <td>7</td>\n",
       "      <td>132.0</td>\n",
       "      <td>4</td>\n",
       "      <td>913.0</td>\n",
       "      <td>2122</td>\n",
       "      <td>8</td>\n",
       "      <td>...</td>\n",
       "      <td>1</td>\n",
       "      <td>0</td>\n",
       "      <td>0</td>\n",
       "      <td>0</td>\n",
       "      <td>0</td>\n",
       "      <td>1</td>\n",
       "      <td>13</td>\n",
       "      <td>12</td>\n",
       "      <td>0</td>\n",
       "      <td>0</td>\n",
       "    </tr>\n",
       "    <tr>\n",
       "      <th>2</th>\n",
       "      <td>2</td>\n",
       "      <td>153</td>\n",
       "      <td>68.0000</td>\n",
       "      <td>7922</td>\n",
       "      <td>5</td>\n",
       "      <td>0.0</td>\n",
       "      <td>3</td>\n",
       "      <td>1057.0</td>\n",
       "      <td>1057</td>\n",
       "      <td>5</td>\n",
       "      <td>...</td>\n",
       "      <td>1</td>\n",
       "      <td>0</td>\n",
       "      <td>0</td>\n",
       "      <td>0</td>\n",
       "      <td>1</td>\n",
       "      <td>0</td>\n",
       "      <td>57</td>\n",
       "      <td>3</td>\n",
       "      <td>0</td>\n",
       "      <td>1</td>\n",
       "    </tr>\n",
       "    <tr>\n",
       "      <th>3</th>\n",
       "      <td>3</td>\n",
       "      <td>318</td>\n",
       "      <td>73.0000</td>\n",
       "      <td>9802</td>\n",
       "      <td>5</td>\n",
       "      <td>0.0</td>\n",
       "      <td>4</td>\n",
       "      <td>384.0</td>\n",
       "      <td>1444</td>\n",
       "      <td>7</td>\n",
       "      <td>...</td>\n",
       "      <td>1</td>\n",
       "      <td>0</td>\n",
       "      <td>0</td>\n",
       "      <td>0</td>\n",
       "      <td>0</td>\n",
       "      <td>1</td>\n",
       "      <td>4</td>\n",
       "      <td>3</td>\n",
       "      <td>1</td>\n",
       "      <td>1</td>\n",
       "    </tr>\n",
       "    <tr>\n",
       "      <th>4</th>\n",
       "      <td>4</td>\n",
       "      <td>255</td>\n",
       "      <td>82.0000</td>\n",
       "      <td>14235</td>\n",
       "      <td>6</td>\n",
       "      <td>0.0</td>\n",
       "      <td>2</td>\n",
       "      <td>676.0</td>\n",
       "      <td>1445</td>\n",
       "      <td>6</td>\n",
       "      <td>...</td>\n",
       "      <td>1</td>\n",
       "      <td>0</td>\n",
       "      <td>0</td>\n",
       "      <td>0</td>\n",
       "      <td>0</td>\n",
       "      <td>1</td>\n",
       "      <td>110</td>\n",
       "      <td>17</td>\n",
       "      <td>0</td>\n",
       "      <td>0</td>\n",
       "    </tr>\n",
       "  </tbody>\n",
       "</table>\n",
       "<p>5 rows × 55 columns</p>\n",
       "</div>"
      ],
      "text/plain": [
       "   Unnamed: 0   id  lot_frontage  lot_area  overall_qual  mas_vnr_area  \\\n",
       "0           0  109       69.0552     13517             6         289.0   \n",
       "1           1  544       43.0000     11492             7         132.0   \n",
       "2           2  153       68.0000      7922             5           0.0   \n",
       "3           3  318       73.0000      9802             5           0.0   \n",
       "4           4  255       82.0000     14235             6           0.0   \n",
       "\n",
       "   bsmt_qual  total_bsmt_sf  gr_liv_area  totrms_abvgrd  ...  house_type_1Fam  \\\n",
       "0          3          725.0         1479              6  ...                1   \n",
       "1          4          913.0         2122              8  ...                1   \n",
       "2          3         1057.0         1057              5  ...                1   \n",
       "3          4          384.0         1444              7  ...                1   \n",
       "4          2          676.0         1445              6  ...                1   \n",
       "\n",
       "   house_type_2_fam  house_type_Twnhs  fnd_BrkTil  fnd_CBlock  fnd_PConc  \\\n",
       "0                 0                 0           0           1          0   \n",
       "1                 0                 0           0           0          1   \n",
       "2                 0                 0           0           1          0   \n",
       "3                 0                 0           0           0          1   \n",
       "4                 0                 0           0           0          1   \n",
       "\n",
       "   house_age  remod_age  new_house  new_remod  \n",
       "0         34          5          0          1  \n",
       "1         13         12          0          0  \n",
       "2         57          3          0          1  \n",
       "3          4          3          1          1  \n",
       "4        110         17          0          0  \n",
       "\n",
       "[5 rows x 55 columns]"
      ]
     },
     "execution_count": 7,
     "metadata": {},
     "output_type": "execute_result"
    }
   ],
   "source": [
    "df.head()"
   ]
  },
  {
   "cell_type": "code",
   "execution_count": 8,
   "metadata": {},
   "outputs": [
    {
     "data": {
      "text/plain": [
       "(878, 57)"
      ]
     },
     "execution_count": 8,
     "metadata": {},
     "output_type": "execute_result"
    }
   ],
   "source": [
    "df2.shape"
   ]
  },
  {
   "cell_type": "code",
   "execution_count": 9,
   "metadata": {},
   "outputs": [
    {
     "data": {
      "text/html": [
       "<div>\n",
       "<style scoped>\n",
       "    .dataframe tbody tr th:only-of-type {\n",
       "        vertical-align: middle;\n",
       "    }\n",
       "\n",
       "    .dataframe tbody tr th {\n",
       "        vertical-align: top;\n",
       "    }\n",
       "\n",
       "    .dataframe thead th {\n",
       "        text-align: right;\n",
       "    }\n",
       "</style>\n",
       "<table border=\"1\" class=\"dataframe\">\n",
       "  <thead>\n",
       "    <tr style=\"text-align: right;\">\n",
       "      <th></th>\n",
       "      <th>Unnamed: 0</th>\n",
       "      <th>id</th>\n",
       "      <th>lot_frontage</th>\n",
       "      <th>lot_area</th>\n",
       "      <th>overall_qual</th>\n",
       "      <th>mas_vnr_area</th>\n",
       "      <th>bsmt_qual</th>\n",
       "      <th>total_bsmt_sf</th>\n",
       "      <th>gr_liv_area</th>\n",
       "      <th>kitchen_qual</th>\n",
       "      <th>...</th>\n",
       "      <th>house_type_Twnhs</th>\n",
       "      <th>fnd_BrkTil</th>\n",
       "      <th>fnd_CBlock</th>\n",
       "      <th>fnd_PConc</th>\n",
       "      <th>sale_new_house</th>\n",
       "      <th>remod_add</th>\n",
       "      <th>house_age</th>\n",
       "      <th>remod_age</th>\n",
       "      <th>new_house</th>\n",
       "      <th>new_remod</th>\n",
       "    </tr>\n",
       "  </thead>\n",
       "  <tbody>\n",
       "    <tr>\n",
       "      <th>0</th>\n",
       "      <td>0</td>\n",
       "      <td>2658</td>\n",
       "      <td>69.000000</td>\n",
       "      <td>9142</td>\n",
       "      <td>6</td>\n",
       "      <td>0.0</td>\n",
       "      <td>2</td>\n",
       "      <td>1020</td>\n",
       "      <td>1928</td>\n",
       "      <td>Fa</td>\n",
       "      <td>...</td>\n",
       "      <td>0</td>\n",
       "      <td>0</td>\n",
       "      <td>0</td>\n",
       "      <td>0</td>\n",
       "      <td>0</td>\n",
       "      <td>0</td>\n",
       "      <td>96</td>\n",
       "      <td>56</td>\n",
       "      <td>0</td>\n",
       "      <td>0</td>\n",
       "    </tr>\n",
       "    <tr>\n",
       "      <th>1</th>\n",
       "      <td>1</td>\n",
       "      <td>2718</td>\n",
       "      <td>69.545961</td>\n",
       "      <td>9662</td>\n",
       "      <td>5</td>\n",
       "      <td>0.0</td>\n",
       "      <td>4</td>\n",
       "      <td>1967</td>\n",
       "      <td>1967</td>\n",
       "      <td>TA</td>\n",
       "      <td>...</td>\n",
       "      <td>0</td>\n",
       "      <td>0</td>\n",
       "      <td>1</td>\n",
       "      <td>0</td>\n",
       "      <td>0</td>\n",
       "      <td>0</td>\n",
       "      <td>29</td>\n",
       "      <td>29</td>\n",
       "      <td>0</td>\n",
       "      <td>0</td>\n",
       "    </tr>\n",
       "    <tr>\n",
       "      <th>2</th>\n",
       "      <td>2</td>\n",
       "      <td>2414</td>\n",
       "      <td>58.000000</td>\n",
       "      <td>17104</td>\n",
       "      <td>7</td>\n",
       "      <td>0.0</td>\n",
       "      <td>4</td>\n",
       "      <td>654</td>\n",
       "      <td>1496</td>\n",
       "      <td>Gd</td>\n",
       "      <td>...</td>\n",
       "      <td>0</td>\n",
       "      <td>0</td>\n",
       "      <td>0</td>\n",
       "      <td>1</td>\n",
       "      <td>1</td>\n",
       "      <td>0</td>\n",
       "      <td>0</td>\n",
       "      <td>0</td>\n",
       "      <td>1</td>\n",
       "      <td>1</td>\n",
       "    </tr>\n",
       "    <tr>\n",
       "      <th>3</th>\n",
       "      <td>3</td>\n",
       "      <td>1989</td>\n",
       "      <td>60.000000</td>\n",
       "      <td>8520</td>\n",
       "      <td>5</td>\n",
       "      <td>0.0</td>\n",
       "      <td>3</td>\n",
       "      <td>968</td>\n",
       "      <td>968</td>\n",
       "      <td>TA</td>\n",
       "      <td>...</td>\n",
       "      <td>0</td>\n",
       "      <td>0</td>\n",
       "      <td>1</td>\n",
       "      <td>0</td>\n",
       "      <td>0</td>\n",
       "      <td>0</td>\n",
       "      <td>84</td>\n",
       "      <td>1</td>\n",
       "      <td>0</td>\n",
       "      <td>1</td>\n",
       "    </tr>\n",
       "    <tr>\n",
       "      <th>4</th>\n",
       "      <td>4</td>\n",
       "      <td>625</td>\n",
       "      <td>69.545961</td>\n",
       "      <td>9500</td>\n",
       "      <td>6</td>\n",
       "      <td>247.0</td>\n",
       "      <td>4</td>\n",
       "      <td>1394</td>\n",
       "      <td>1394</td>\n",
       "      <td>TA</td>\n",
       "      <td>...</td>\n",
       "      <td>0</td>\n",
       "      <td>0</td>\n",
       "      <td>1</td>\n",
       "      <td>0</td>\n",
       "      <td>0</td>\n",
       "      <td>0</td>\n",
       "      <td>46</td>\n",
       "      <td>46</td>\n",
       "      <td>0</td>\n",
       "      <td>0</td>\n",
       "    </tr>\n",
       "  </tbody>\n",
       "</table>\n",
       "<p>5 rows × 57 columns</p>\n",
       "</div>"
      ],
      "text/plain": [
       "   Unnamed: 0    id  lot_frontage  lot_area  overall_qual  mas_vnr_area  \\\n",
       "0           0  2658     69.000000      9142             6           0.0   \n",
       "1           1  2718     69.545961      9662             5           0.0   \n",
       "2           2  2414     58.000000     17104             7           0.0   \n",
       "3           3  1989     60.000000      8520             5           0.0   \n",
       "4           4   625     69.545961      9500             6         247.0   \n",
       "\n",
       "   bsmt_qual  total_bsmt_sf  gr_liv_area kitchen_qual  ...  house_type_Twnhs  \\\n",
       "0          2           1020         1928           Fa  ...                 0   \n",
       "1          4           1967         1967           TA  ...                 0   \n",
       "2          4            654         1496           Gd  ...                 0   \n",
       "3          3            968          968           TA  ...                 0   \n",
       "4          4           1394         1394           TA  ...                 0   \n",
       "\n",
       "   fnd_BrkTil  fnd_CBlock  fnd_PConc  sale_new_house  remod_add  house_age  \\\n",
       "0           0           0          0               0          0         96   \n",
       "1           0           1          0               0          0         29   \n",
       "2           0           0          1               1          0          0   \n",
       "3           0           1          0               0          0         84   \n",
       "4           0           1          0               0          0         46   \n",
       "\n",
       "   remod_age  new_house  new_remod  \n",
       "0         56          0          0  \n",
       "1         29          0          0  \n",
       "2          0          1          1  \n",
       "3          1          0          1  \n",
       "4         46          0          0  \n",
       "\n",
       "[5 rows x 57 columns]"
      ]
     },
     "execution_count": 9,
     "metadata": {},
     "output_type": "execute_result"
    }
   ],
   "source": [
    "df2.head()"
   ]
  },
  {
   "cell_type": "code",
   "execution_count": 10,
   "metadata": {},
   "outputs": [],
   "source": [
    "df.drop(df.columns[df.columns.str.contains('unnamed',case = False)],axis = 1, inplace = True)"
   ]
  },
  {
   "cell_type": "code",
   "execution_count": 11,
   "metadata": {},
   "outputs": [],
   "source": [
    "df2.drop(df2.columns[df2.columns.str.contains('unnamed',case = False)],axis = 1, inplace = True)"
   ]
  },
  {
   "cell_type": "markdown",
   "metadata": {},
   "source": [
    "## Model Prep"
   ]
  },
  {
   "cell_type": "code",
   "execution_count": 12,
   "metadata": {},
   "outputs": [],
   "source": [
    "X = df.loc[:, df.columns !='']\n",
    "features = list(X.columns)\n",
    "y = df['saleprice']"
   ]
  },
  {
   "cell_type": "code",
   "execution_count": 13,
   "metadata": {},
   "outputs": [
    {
     "data": {
      "text/html": [
       "<div>\n",
       "<style scoped>\n",
       "    .dataframe tbody tr th:only-of-type {\n",
       "        vertical-align: middle;\n",
       "    }\n",
       "\n",
       "    .dataframe tbody tr th {\n",
       "        vertical-align: top;\n",
       "    }\n",
       "\n",
       "    .dataframe thead th {\n",
       "        text-align: right;\n",
       "    }\n",
       "</style>\n",
       "<table border=\"1\" class=\"dataframe\">\n",
       "  <thead>\n",
       "    <tr style=\"text-align: right;\">\n",
       "      <th></th>\n",
       "      <th>id</th>\n",
       "      <th>lot_frontage</th>\n",
       "      <th>lot_area</th>\n",
       "      <th>overall_qual</th>\n",
       "      <th>mas_vnr_area</th>\n",
       "      <th>bsmt_qual</th>\n",
       "      <th>total_bsmt_sf</th>\n",
       "      <th>gr_liv_area</th>\n",
       "      <th>totrms_abvgrd</th>\n",
       "      <th>garage_cars</th>\n",
       "      <th>...</th>\n",
       "      <th>house_type_1Fam</th>\n",
       "      <th>house_type_2_fam</th>\n",
       "      <th>house_type_Twnhs</th>\n",
       "      <th>fnd_BrkTil</th>\n",
       "      <th>fnd_CBlock</th>\n",
       "      <th>fnd_PConc</th>\n",
       "      <th>house_age</th>\n",
       "      <th>remod_age</th>\n",
       "      <th>new_house</th>\n",
       "      <th>new_remod</th>\n",
       "    </tr>\n",
       "  </thead>\n",
       "  <tbody>\n",
       "    <tr>\n",
       "      <th>226</th>\n",
       "      <td>973</td>\n",
       "      <td>69.0552</td>\n",
       "      <td>4500</td>\n",
       "      <td>6</td>\n",
       "      <td>425.0</td>\n",
       "      <td>5</td>\n",
       "      <td>1224.0</td>\n",
       "      <td>1224</td>\n",
       "      <td>5</td>\n",
       "      <td>2.0</td>\n",
       "      <td>...</td>\n",
       "      <td>0</td>\n",
       "      <td>0</td>\n",
       "      <td>1</td>\n",
       "      <td>0</td>\n",
       "      <td>0</td>\n",
       "      <td>1</td>\n",
       "      <td>10</td>\n",
       "      <td>10</td>\n",
       "      <td>1</td>\n",
       "      <td>1</td>\n",
       "    </tr>\n",
       "    <tr>\n",
       "      <th>1742</th>\n",
       "      <td>482</td>\n",
       "      <td>69.0552</td>\n",
       "      <td>8174</td>\n",
       "      <td>7</td>\n",
       "      <td>0.0</td>\n",
       "      <td>4</td>\n",
       "      <td>698.0</td>\n",
       "      <td>1342</td>\n",
       "      <td>7</td>\n",
       "      <td>2.0</td>\n",
       "      <td>...</td>\n",
       "      <td>1</td>\n",
       "      <td>0</td>\n",
       "      <td>0</td>\n",
       "      <td>0</td>\n",
       "      <td>0</td>\n",
       "      <td>1</td>\n",
       "      <td>6</td>\n",
       "      <td>6</td>\n",
       "      <td>1</td>\n",
       "      <td>1</td>\n",
       "    </tr>\n",
       "    <tr>\n",
       "      <th>1516</th>\n",
       "      <td>791</td>\n",
       "      <td>68.0000</td>\n",
       "      <td>9571</td>\n",
       "      <td>5</td>\n",
       "      <td>0.0</td>\n",
       "      <td>3</td>\n",
       "      <td>1276.0</td>\n",
       "      <td>1276</td>\n",
       "      <td>5</td>\n",
       "      <td>1.0</td>\n",
       "      <td>...</td>\n",
       "      <td>1</td>\n",
       "      <td>0</td>\n",
       "      <td>0</td>\n",
       "      <td>0</td>\n",
       "      <td>1</td>\n",
       "      <td>0</td>\n",
       "      <td>51</td>\n",
       "      <td>51</td>\n",
       "      <td>0</td>\n",
       "      <td>0</td>\n",
       "    </tr>\n",
       "    <tr>\n",
       "      <th>1568</th>\n",
       "      <td>2233</td>\n",
       "      <td>50.0000</td>\n",
       "      <td>7000</td>\n",
       "      <td>6</td>\n",
       "      <td>0.0</td>\n",
       "      <td>3</td>\n",
       "      <td>720.0</td>\n",
       "      <td>1215</td>\n",
       "      <td>6</td>\n",
       "      <td>2.0</td>\n",
       "      <td>...</td>\n",
       "      <td>1</td>\n",
       "      <td>0</td>\n",
       "      <td>0</td>\n",
       "      <td>1</td>\n",
       "      <td>0</td>\n",
       "      <td>0</td>\n",
       "      <td>67</td>\n",
       "      <td>57</td>\n",
       "      <td>0</td>\n",
       "      <td>0</td>\n",
       "    </tr>\n",
       "    <tr>\n",
       "      <th>862</th>\n",
       "      <td>1793</td>\n",
       "      <td>75.0000</td>\n",
       "      <td>8778</td>\n",
       "      <td>8</td>\n",
       "      <td>0.0</td>\n",
       "      <td>4</td>\n",
       "      <td>1302.0</td>\n",
       "      <td>1830</td>\n",
       "      <td>7</td>\n",
       "      <td>3.0</td>\n",
       "      <td>...</td>\n",
       "      <td>1</td>\n",
       "      <td>0</td>\n",
       "      <td>0</td>\n",
       "      <td>0</td>\n",
       "      <td>0</td>\n",
       "      <td>1</td>\n",
       "      <td>1</td>\n",
       "      <td>1</td>\n",
       "      <td>1</td>\n",
       "      <td>1</td>\n",
       "    </tr>\n",
       "  </tbody>\n",
       "</table>\n",
       "<p>5 rows × 53 columns</p>\n",
       "</div>"
      ],
      "text/plain": [
       "        id  lot_frontage  lot_area  overall_qual  mas_vnr_area  bsmt_qual  \\\n",
       "226    973       69.0552      4500             6         425.0          5   \n",
       "1742   482       69.0552      8174             7           0.0          4   \n",
       "1516   791       68.0000      9571             5           0.0          3   \n",
       "1568  2233       50.0000      7000             6           0.0          3   \n",
       "862   1793       75.0000      8778             8           0.0          4   \n",
       "\n",
       "      total_bsmt_sf  gr_liv_area  totrms_abvgrd  garage_cars  ...  \\\n",
       "226          1224.0         1224              5          2.0  ...   \n",
       "1742          698.0         1342              7          2.0  ...   \n",
       "1516         1276.0         1276              5          1.0  ...   \n",
       "1568          720.0         1215              6          2.0  ...   \n",
       "862          1302.0         1830              7          3.0  ...   \n",
       "\n",
       "      house_type_1Fam  house_type_2_fam  house_type_Twnhs  fnd_BrkTil  \\\n",
       "226                 0                 0                 1           0   \n",
       "1742                1                 0                 0           0   \n",
       "1516                1                 0                 0           0   \n",
       "1568                1                 0                 0           1   \n",
       "862                 1                 0                 0           0   \n",
       "\n",
       "      fnd_CBlock  fnd_PConc  house_age  remod_age  new_house  new_remod  \n",
       "226            0          1         10         10          1          1  \n",
       "1742           0          1          6          6          1          1  \n",
       "1516           1          0         51         51          0          0  \n",
       "1568           0          0         67         57          0          0  \n",
       "862            0          1          1          1          1          1  \n",
       "\n",
       "[5 rows x 53 columns]"
      ]
     },
     "execution_count": 13,
     "metadata": {},
     "output_type": "execute_result"
    }
   ],
   "source": [
    "X_train, X_test, y_train, y_test = train_test_split(X, y, test_size=0.2, random_state=42)\n",
    "X_train.head()"
   ]
  },
  {
   "cell_type": "markdown",
   "metadata": {},
   "source": [
    "### Baseline RMSE"
   ]
  },
  {
   "cell_type": "code",
   "execution_count": 61,
   "metadata": {},
   "outputs": [
    {
     "data": {
      "text/plain": [
       "68634.37747625775"
      ]
     },
     "execution_count": 61,
     "metadata": {},
     "output_type": "execute_result"
    }
   ],
   "source": [
    "baseline = mean_squared_error(y_test, [y_train.mean()]*len(y_test), squared=False)\n",
    "baseline"
   ]
  },
  {
   "cell_type": "code",
   "execution_count": 14,
   "metadata": {},
   "outputs": [
    {
     "name": "stdout",
     "output_type": "stream",
     "text": [
      "(1435, 53)\n",
      "(616, 53)\n",
      "(1435,)\n",
      "(616,)\n"
     ]
    }
   ],
   "source": [
    "for dataset in [X_train, X_test, y_train, y_test]:\n",
    "    print(dataset.shape)"
   ]
  },
  {
   "cell_type": "code",
   "execution_count": 15,
   "metadata": {},
   "outputs": [
    {
     "data": {
      "text/plain": [
       "StandardScaler()"
      ]
     },
     "execution_count": 15,
     "metadata": {},
     "output_type": "execute_result"
    }
   ],
   "source": [
    "ss = StandardScaler()\n",
    "ss.fit(X_train)"
   ]
  },
  {
   "cell_type": "code",
   "execution_count": 16,
   "metadata": {},
   "outputs": [
    {
     "data": {
      "text/plain": [
       "array([1.45968362e+03, 6.93854234e+01, 9.91021324e+03, 6.09756098e+00,\n",
       "       9.92526316e+01, 3.48571429e+00, 1.05724459e+03, 1.46929756e+03,\n",
       "       6.40487805e+00, 1.77282230e+00, 2.80557491e+00, 2.81393728e+00,\n",
       "       2.21910697e+00, 9.72822300e-01, 5.01045296e-01, 8.34843206e-01,\n",
       "       4.15331010e-01, 1.32404181e-02, 2.09059233e-03, 9.75609756e-03,\n",
       "       4.11149826e-02, 1.32404181e-02, 8.57142857e-02, 3.41463415e-02,\n",
       "       6.62020906e-02, 5.85365854e-02, 1.39372822e-03, 3.55400697e-02,\n",
       "       1.18466899e-02, 3.90243902e-02, 1.43554007e-01, 1.04529617e-02,\n",
       "       4.87804878e-02, 2.43902439e-02, 5.29616725e-02, 7.24738676e-02,\n",
       "       1.25435540e-02, 5.85365854e-02, 4.52961672e-02, 6.96864111e-02,\n",
       "       1.81184669e-02, 2.22996516e-02, 6.96864111e-03, 8.27177700e-01,\n",
       "       5.64459930e-02, 1.16376307e-01, 1.05923345e-01, 4.18815331e-01,\n",
       "       4.56445993e-01, 3.58919861e+01, 2.36634146e+01, 3.08013937e-01,\n",
       "       4.10452962e-01])"
      ]
     },
     "execution_count": 16,
     "metadata": {},
     "output_type": "execute_result"
    }
   ],
   "source": [
    "ss.mean_"
   ]
  },
  {
   "cell_type": "code",
   "execution_count": 17,
   "metadata": {},
   "outputs": [
    {
     "data": {
      "text/plain": [
       "array([8.38247465e+02, 2.21503188e+01, 5.38642330e+03, 1.43484304e+00,\n",
       "       1.75892090e+02, 9.04675098e-01, 4.58680880e+02, 4.61289060e+02,\n",
       "       1.56969689e+00, 7.61412620e-01, 7.18474672e-01, 7.12907994e-01,\n",
       "       8.18019953e-01, 1.62600962e-01, 4.99998907e-01, 3.71322000e-01,\n",
       "       4.92779020e-01, 1.14302710e-01, 4.56751766e-02, 9.82899594e-02,\n",
       "       1.98556140e-01, 1.14302710e-01, 2.79941685e-01, 1.81604980e-01,\n",
       "       2.48635021e-01, 2.34755306e-01, 3.73066448e-02, 1.85140415e-01,\n",
       "       1.08195868e-01, 1.93653007e-01, 3.50636926e-01, 1.01703969e-01,\n",
       "       2.15408802e-01, 1.54257447e-01, 2.23956991e-01, 2.59270913e-01,\n",
       "       1.11293366e-01, 2.34755306e-01, 2.07952938e-01, 2.54617783e-01,\n",
       "       1.33379864e-01, 1.47656280e-01, 8.31870131e-02, 3.78093576e-01,\n",
       "       2.30780941e-01, 3.20675633e-01, 3.07739484e-01, 4.93365027e-01,\n",
       "       4.98099436e-01, 3.01346832e+01, 2.09335506e+01, 4.61672342e-01,\n",
       "       4.91915976e-01])"
      ]
     },
     "execution_count": 17,
     "metadata": {},
     "output_type": "execute_result"
    }
   ],
   "source": [
    "ss.scale_"
   ]
  },
  {
   "cell_type": "code",
   "execution_count": 18,
   "metadata": {},
   "outputs": [],
   "source": [
    "X_train_sc = ss.transform(X_train)\n",
    "X_test_sc = ss.transform(X_test)"
   ]
  },
  {
   "cell_type": "markdown",
   "metadata": {},
   "source": [
    "## Linera Regression  Model"
   ]
  },
  {
   "cell_type": "code",
   "execution_count": 20,
   "metadata": {},
   "outputs": [],
   "source": [
    "lr = LinearRegression()"
   ]
  },
  {
   "cell_type": "code",
   "execution_count": 22,
   "metadata": {},
   "outputs": [
    {
     "data": {
      "text/plain": [
       "0.6163244635106601"
      ]
     },
     "execution_count": 22,
     "metadata": {},
     "output_type": "execute_result"
    }
   ],
   "source": [
    "cross_val_score(estimator=lr, X=X_train, y=y_train).mean()"
   ]
  },
  {
   "cell_type": "code",
   "execution_count": 23,
   "metadata": {},
   "outputs": [
    {
     "data": {
      "text/plain": [
       "LinearRegression()"
      ]
     },
     "execution_count": 23,
     "metadata": {},
     "output_type": "execute_result"
    }
   ],
   "source": [
    "# Fit the model \n",
    "lr.fit(X_train, y_train)"
   ]
  },
  {
   "cell_type": "code",
   "execution_count": 27,
   "metadata": {},
   "outputs": [],
   "source": [
    "train_preds = lr.predict(X_train)\n",
    "test_preds = lr.predict(X_test)"
   ]
  },
  {
   "cell_type": "code",
   "execution_count": 31,
   "metadata": {},
   "outputs": [
    {
     "name": "stdout",
     "output_type": "stream",
     "text": [
      " Linear Regression Train Score is: 0.6660616769492547\n"
     ]
    }
   ],
   "source": [
    "lr.score(X_train, y_train)\n",
    "print(f' Linear Regression Train Score is: {lr.score(X_train, y_train)}')"
   ]
  },
  {
   "cell_type": "code",
   "execution_count": 32,
   "metadata": {},
   "outputs": [
    {
     "name": "stdout",
     "output_type": "stream",
     "text": [
      " Linear Regression Test Score is: 0.6750872851947647\n"
     ]
    }
   ],
   "source": [
    "lr.score(X_test, y_test)\n",
    "print(f' Linear Regression Test Score is: {lr.score(X_test, y_test)}')"
   ]
  },
  {
   "cell_type": "markdown",
   "metadata": {},
   "source": [
    "### RMSE"
   ]
  },
  {
   "cell_type": "code",
   "execution_count": 38,
   "metadata": {},
   "outputs": [
    {
     "name": "stdout",
     "output_type": "stream",
     "text": [
      " Linear Regression Train RMSE: 38024.76814989392\n"
     ]
    }
   ],
   "source": [
    "RMSE_lr_train = sqrt(mean_squared_error(y_train, train_preds))\n",
    "print(f' Linear Regression Train RMSE: {RMSE_lr_train}')"
   ]
  },
  {
   "cell_type": "code",
   "execution_count": 39,
   "metadata": {},
   "outputs": [
    {
     "name": "stdout",
     "output_type": "stream",
     "text": [
      " Linear Regression Train RMSE: 39068.43562861566\n"
     ]
    }
   ],
   "source": [
    "RMSE_lr_test = sqrt(mean_squared_error(y_test, test_preds))\n",
    "print(f' Linear Regression Train RMSE: {RMSE_lr_test}')"
   ]
  },
  {
   "cell_type": "code",
   "execution_count": 42,
   "metadata": {},
   "outputs": [
    {
     "data": {
      "text/plain": [
       "0.6248922420256514"
      ]
     },
     "execution_count": 42,
     "metadata": {},
     "output_type": "execute_result"
    }
   ],
   "source": [
    "cross_val_score(estimator=lr, X=X_train, y=y_train, cv=6).mean()"
   ]
  },
  {
   "cell_type": "code",
   "execution_count": 43,
   "metadata": {},
   "outputs": [
    {
     "data": {
      "image/png": "[encoded data removed]",
      "text/plain": [
       "<Figure size 432x288 with 1 Axes>"
      ]
     },
     "metadata": {
      "needs_background": "light"
     },
     "output_type": "display_data"
    }
   ],
   "source": [
    "plt.scatter(test_preds, test_preds - y_test)\n",
    "plt.axhline(0, color='red');"
   ]
  },
  {
   "cell_type": "code",
   "execution_count": 277,
   "metadata": {},
   "outputs": [],
   "source": [
    "df2['saleprice'] = lr.predict(df2[ridge_features])\n",
    "df2[['id','saleprice']].set_index('id').to_csv('linear_regression_kaggle.csv')"
   ]
  },
  {
   "cell_type": "markdown",
   "metadata": {},
   "source": [
    "## Ridge Model"
   ]
  },
  {
   "cell_type": "code",
   "execution_count": 44,
   "metadata": {},
   "outputs": [
    {
     "data": {
      "text/plain": [
       "Ridge()"
      ]
     },
     "execution_count": 44,
     "metadata": {},
     "output_type": "execute_result"
    }
   ],
   "source": [
    "rl = Ridge(alpha=1.0)\n",
    "rl.fit(X_train_sc, y_train)"
   ]
  },
  {
   "cell_type": "code",
   "execution_count": 45,
   "metadata": {},
   "outputs": [
    {
     "data": {
      "text/plain": [
       "0.6202236418501342"
      ]
     },
     "execution_count": 45,
     "metadata": {},
     "output_type": "execute_result"
    }
   ],
   "source": [
    "cross_val_score(estimator=rl, X=X_train_sc, y=y_train).mean()"
   ]
  },
  {
   "cell_type": "code",
   "execution_count": 48,
   "metadata": {},
   "outputs": [],
   "source": [
    "y_preds = rl.predict(X_test_sc)\n",
    "X_preds = rl.predict(X_train_sc)"
   ]
  },
  {
   "cell_type": "code",
   "execution_count": 65,
   "metadata": {},
   "outputs": [
    {
     "name": "stdout",
     "output_type": "stream",
     "text": [
      " Ridge Regression Train Score is: 0.6659657687766632\n"
     ]
    }
   ],
   "source": [
    "rl.score(X_train_sc, y_train)\n",
    "print(f' Ridge Regression Train Score is: {rl.score(X_train_sc, y_train)}')"
   ]
  },
  {
   "cell_type": "code",
   "execution_count": 66,
   "metadata": {},
   "outputs": [
    {
     "name": "stdout",
     "output_type": "stream",
     "text": [
      " Ridge Regression Test Score is: 0.6750808340705272\n"
     ]
    }
   ],
   "source": [
    "rl.score(X_test_sc, y_test)\n",
    "print(f' Ridge Regression Test Score is: {rl.score(X_test_sc, y_test)}')"
   ]
  },
  {
   "cell_type": "code",
   "execution_count": 49,
   "metadata": {},
   "outputs": [
    {
     "name": "stdout",
     "output_type": "stream",
     "text": [
      " Linear Regression Train RMSE: 38024.76814989392\n"
     ]
    }
   ],
   "source": [
    "# RMSE\n",
    "RMSE_rl_train = sqrt(mean_squared_error(y_train, X_preds))\n",
    "print(f' Linear Regression Train RMSE: {RMSE_lr_train}')"
   ]
  },
  {
   "cell_type": "code",
   "execution_count": 50,
   "metadata": {},
   "outputs": [
    {
     "name": "stdout",
     "output_type": "stream",
     "text": [
      " Linear Regression Train RMSE: 39068.82347752014\n"
     ]
    }
   ],
   "source": [
    "RMSE_rl_test = sqrt(mean_squared_error(y_test, y_preds))\n",
    "print(f' Linear Regression Train RMSE: {RMSE_rl_test}')"
   ]
  },
  {
   "cell_type": "code",
   "execution_count": 55,
   "metadata": {},
   "outputs": [
    {
     "data": {
      "image/png": "[encoded data removed]",
      "text/plain": [
       "<Figure size 432x288 with 1 Axes>"
      ]
     },
     "metadata": {
      "needs_background": "light"
     },
     "output_type": "display_data"
    }
   ],
   "source": [
    "plt.scatter(y_preds, y_preds - y_test)\n",
    "plt.axhline(0, color='red');"
   ]
  },
  {
   "cell_type": "code",
   "execution_count": 285,
   "metadata": {},
   "outputs": [],
   "source": [
    "#df2['saleprice'] = lr.predict(df2[ridge_features])\n",
    "#df2[['id','saleprice']].set_index('id').to_csv('ridge_regression_kaggle.csv')"
   ]
  },
  {
   "cell_type": "markdown",
   "metadata": {},
   "source": [
    "## LASSO Model"
   ]
  },
  {
   "cell_type": "code",
   "execution_count": 63,
   "metadata": {},
   "outputs": [
    {
     "name": "stderr",
     "output_type": "stream",
     "text": [
      "C:\\Users\\domin_lxdhy\\anaconda3\\envs\\dsi\\lib\\site-packages\\sklearn\\linear_model\\_coordinate_descent.py:529: ConvergenceWarning: Objective did not converge. You might want to increase the number of iterations. Duality gap: 233875080821.53186, tolerance: 621324942.8185669\n",
      "  model = cd_fast.enet_coordinate_descent(\n"
     ]
    },
    {
     "data": {
      "text/plain": [
       "Lasso()"
      ]
     },
     "execution_count": 63,
     "metadata": {},
     "output_type": "execute_result"
    }
   ],
   "source": [
    "lasso = Lasso(alpha=1.0)\n",
    "lasso.fit(X_train_sc, y_train)"
   ]
  },
  {
   "cell_type": "code",
   "execution_count": 64,
   "metadata": {},
   "outputs": [],
   "source": [
    "lasso_y_preds = lasso.predict(X_test_sc)\n",
    "lasso_X_preds = lasso.predict(X_train_sc)"
   ]
  },
  {
   "cell_type": "code",
   "execution_count": 67,
   "metadata": {},
   "outputs": [
    {
     "name": "stdout",
     "output_type": "stream",
     "text": [
      " Lasso Train Score is: 0.6660569959123523\n"
     ]
    }
   ],
   "source": [
    "lasso.score(X_train_sc, y_train)\n",
    "print(f' Lasso Train Score is: {lasso.score(X_train_sc, y_train)}')"
   ]
  },
  {
   "cell_type": "code",
   "execution_count": 68,
   "metadata": {},
   "outputs": [
    {
     "name": "stdout",
     "output_type": "stream",
     "text": [
      " Lasso Test Score is: 0.6750889705869677\n"
     ]
    }
   ],
   "source": [
    "lasso.score(X_test_sc, y_test)\n",
    "print(f' Lasso Test Score is: {lasso.score(X_test_sc, y_test)}')"
   ]
  },
  {
   "cell_type": "code",
   "execution_count": 69,
   "metadata": {},
   "outputs": [
    {
     "name": "stdout",
     "output_type": "stream",
     "text": [
      " Linear Regression Train RMSE: 38025.03465826817\n"
     ]
    }
   ],
   "source": [
    "# RMSE\n",
    "RMSE_lasso_X = sqrt(mean_squared_error(y_train, lasso_X_preds))\n",
    "print(f' Linear Regression Train RMSE: {RMSE_lasso_X}')"
   ]
  },
  {
   "cell_type": "code",
   "execution_count": 74,
   "metadata": {},
   "outputs": [
    {
     "name": "stdout",
     "output_type": "stream",
     "text": [
      " Linear Regression Test RMSE: 39068.33430029088\n"
     ]
    }
   ],
   "source": [
    "RMSE_lasso_y = sqrt(mean_squared_error(y_test, lasso_y_preds))\n",
    "print(f' Linear Regression Test RMSE: {RMSE_lasso_y}')"
   ]
  },
  {
   "cell_type": "code",
   "execution_count": 72,
   "metadata": {},
   "outputs": [
    {
     "data": {
      "image/png": "[encoded data removed]",
      "text/plain": [
       "<Figure size 432x288 with 1 Axes>"
      ]
     },
     "metadata": {
      "needs_background": "light"
     },
     "output_type": "display_data"
    }
   ],
   "source": [
    "plt.scatter(lasso_y_preds, lasso_y_preds - y_test)\n",
    "plt.axhline(0, color='red');"
   ]
  },
  {
   "cell_type": "code",
   "execution_count": 73,
   "metadata": {},
   "outputs": [
    {
     "data": {
      "text/html": [
       "<div>\n",
       "<style scoped>\n",
       "    .dataframe tbody tr th:only-of-type {\n",
       "        vertical-align: middle;\n",
       "    }\n",
       "\n",
       "    .dataframe tbody tr th {\n",
       "        vertical-align: top;\n",
       "    }\n",
       "\n",
       "    .dataframe thead th {\n",
       "        text-align: right;\n",
       "    }\n",
       "</style>\n",
       "<table border=\"1\" class=\"dataframe\">\n",
       "  <thead>\n",
       "    <tr style=\"text-align: right;\">\n",
       "      <th></th>\n",
       "      <th>Feature</th>\n",
       "      <th>Coefficient</th>\n",
       "    </tr>\n",
       "  </thead>\n",
       "  <tbody>\n",
       "    <tr>\n",
       "      <th>14</th>\n",
       "      <td>has_fireplace</td>\n",
       "      <td>14934.061797</td>\n",
       "    </tr>\n",
       "    <tr>\n",
       "      <th>3</th>\n",
       "      <td>overall_qual</td>\n",
       "      <td>10751.566090</td>\n",
       "    </tr>\n",
       "    <tr>\n",
       "      <th>13</th>\n",
       "      <td>has_bsmt</td>\n",
       "      <td>9098.486013</td>\n",
       "    </tr>\n",
       "    <tr>\n",
       "      <th>9</th>\n",
       "      <td>garage_cars</td>\n",
       "      <td>7806.731825</td>\n",
       "    </tr>\n",
       "    <tr>\n",
       "      <th>12</th>\n",
       "      <td>total_baths</td>\n",
       "      <td>7714.095198</td>\n",
       "    </tr>\n",
       "    <tr>\n",
       "      <th>15</th>\n",
       "      <td>has_porch</td>\n",
       "      <td>6423.467589</td>\n",
       "    </tr>\n",
       "    <tr>\n",
       "      <th>43</th>\n",
       "      <td>house_type_1Fam</td>\n",
       "      <td>4625.916030</td>\n",
       "    </tr>\n",
       "    <tr>\n",
       "      <th>11</th>\n",
       "      <td>garage_cond</td>\n",
       "      <td>4175.007778</td>\n",
       "    </tr>\n",
       "    <tr>\n",
       "      <th>52</th>\n",
       "      <td>new_remod</td>\n",
       "      <td>2813.386526</td>\n",
       "    </tr>\n",
       "    <tr>\n",
       "      <th>51</th>\n",
       "      <td>new_house</td>\n",
       "      <td>1469.790121</td>\n",
       "    </tr>\n",
       "    <tr>\n",
       "      <th>5</th>\n",
       "      <td>bsmt_qual</td>\n",
       "      <td>1328.825934</td>\n",
       "    </tr>\n",
       "    <tr>\n",
       "      <th>1</th>\n",
       "      <td>lot_frontage</td>\n",
       "      <td>141.983350</td>\n",
       "    </tr>\n",
       "    <tr>\n",
       "      <th>7</th>\n",
       "      <td>gr_liv_area</td>\n",
       "      <td>45.015242</td>\n",
       "    </tr>\n",
       "    <tr>\n",
       "      <th>0</th>\n",
       "      <td>id</td>\n",
       "      <td>0.337752</td>\n",
       "    </tr>\n",
       "    <tr>\n",
       "      <th>2</th>\n",
       "      <td>lot_area</td>\n",
       "      <td>0.018705</td>\n",
       "    </tr>\n",
       "    <tr>\n",
       "      <th>6</th>\n",
       "      <td>total_bsmt_sf</td>\n",
       "      <td>-2.190388</td>\n",
       "    </tr>\n",
       "    <tr>\n",
       "      <th>4</th>\n",
       "      <td>mas_vnr_area</td>\n",
       "      <td>-39.172700</td>\n",
       "    </tr>\n",
       "    <tr>\n",
       "      <th>49</th>\n",
       "      <td>house_age</td>\n",
       "      <td>-223.486083</td>\n",
       "    </tr>\n",
       "    <tr>\n",
       "      <th>50</th>\n",
       "      <td>remod_age</td>\n",
       "      <td>-278.255917</td>\n",
       "    </tr>\n",
       "    <tr>\n",
       "      <th>45</th>\n",
       "      <td>house_type_Twnhs</td>\n",
       "      <td>-411.824636</td>\n",
       "    </tr>\n",
       "    <tr>\n",
       "      <th>48</th>\n",
       "      <td>fnd_PConc</td>\n",
       "      <td>-2451.357563</td>\n",
       "    </tr>\n",
       "    <tr>\n",
       "      <th>8</th>\n",
       "      <td>totrms_abvgrd</td>\n",
       "      <td>-3706.108106</td>\n",
       "    </tr>\n",
       "    <tr>\n",
       "      <th>44</th>\n",
       "      <td>house_type_2_fam</td>\n",
       "      <td>-4214.091394</td>\n",
       "    </tr>\n",
       "    <tr>\n",
       "      <th>10</th>\n",
       "      <td>garage_qual</td>\n",
       "      <td>-4924.348361</td>\n",
       "    </tr>\n",
       "    <tr>\n",
       "      <th>47</th>\n",
       "      <td>fnd_CBlock</td>\n",
       "      <td>-5508.614092</td>\n",
       "    </tr>\n",
       "    <tr>\n",
       "      <th>46</th>\n",
       "      <td>fnd_BrkTil</td>\n",
       "      <td>-10882.779770</td>\n",
       "    </tr>\n",
       "    <tr>\n",
       "      <th>16</th>\n",
       "      <td>has_2nd_flr</td>\n",
       "      <td>-12245.332574</td>\n",
       "    </tr>\n",
       "    <tr>\n",
       "      <th>42</th>\n",
       "      <td>nabe_Veenker</td>\n",
       "      <td>-23966.228268</td>\n",
       "    </tr>\n",
       "    <tr>\n",
       "      <th>23</th>\n",
       "      <td>nabe_Crawfor</td>\n",
       "      <td>-29749.642769</td>\n",
       "    </tr>\n",
       "    <tr>\n",
       "      <th>33</th>\n",
       "      <td>nabe_NoRidge</td>\n",
       "      <td>-36282.205870</td>\n",
       "    </tr>\n",
       "    <tr>\n",
       "      <th>41</th>\n",
       "      <td>nabe_Timber</td>\n",
       "      <td>-39118.702851</td>\n",
       "    </tr>\n",
       "    <tr>\n",
       "      <th>21</th>\n",
       "      <td>nabe_ClearCr</td>\n",
       "      <td>-41636.578389</td>\n",
       "    </tr>\n",
       "    <tr>\n",
       "      <th>34</th>\n",
       "      <td>nabe_NridgHt</td>\n",
       "      <td>-49325.576878</td>\n",
       "    </tr>\n",
       "    <tr>\n",
       "      <th>39</th>\n",
       "      <td>nabe_Somerst</td>\n",
       "      <td>-51667.061870</td>\n",
       "    </tr>\n",
       "    <tr>\n",
       "      <th>32</th>\n",
       "      <td>nabe_NWAmes</td>\n",
       "      <td>-54507.325668</td>\n",
       "    </tr>\n",
       "    <tr>\n",
       "      <th>20</th>\n",
       "      <td>nabe_BrkSide</td>\n",
       "      <td>-55114.977431</td>\n",
       "    </tr>\n",
       "    <tr>\n",
       "      <th>36</th>\n",
       "      <td>nabe_SWISU</td>\n",
       "      <td>-56874.651694</td>\n",
       "    </tr>\n",
       "    <tr>\n",
       "      <th>30</th>\n",
       "      <td>nabe_NAmes</td>\n",
       "      <td>-56909.440648</td>\n",
       "    </tr>\n",
       "    <tr>\n",
       "      <th>19</th>\n",
       "      <td>nabe_BrDale</td>\n",
       "      <td>-59065.497474</td>\n",
       "    </tr>\n",
       "    <tr>\n",
       "      <th>22</th>\n",
       "      <td>nabe_CollgCr</td>\n",
       "      <td>-59085.762280</td>\n",
       "    </tr>\n",
       "    <tr>\n",
       "      <th>29</th>\n",
       "      <td>nabe_Mitchel</td>\n",
       "      <td>-59097.510788</td>\n",
       "    </tr>\n",
       "    <tr>\n",
       "      <th>38</th>\n",
       "      <td>nabe_SawyerW</td>\n",
       "      <td>-61787.116914</td>\n",
       "    </tr>\n",
       "    <tr>\n",
       "      <th>37</th>\n",
       "      <td>nabe_Sawyer</td>\n",
       "      <td>-64975.402714</td>\n",
       "    </tr>\n",
       "    <tr>\n",
       "      <th>35</th>\n",
       "      <td>nabe_OldTown</td>\n",
       "      <td>-65048.304277</td>\n",
       "    </tr>\n",
       "    <tr>\n",
       "      <th>24</th>\n",
       "      <td>nabe_Edwards</td>\n",
       "      <td>-65859.410134</td>\n",
       "    </tr>\n",
       "    <tr>\n",
       "      <th>27</th>\n",
       "      <td>nabe_IDOTRR</td>\n",
       "      <td>-67654.541394</td>\n",
       "    </tr>\n",
       "    <tr>\n",
       "      <th>25</th>\n",
       "      <td>nabe_Gilbert</td>\n",
       "      <td>-72021.080242</td>\n",
       "    </tr>\n",
       "    <tr>\n",
       "      <th>40</th>\n",
       "      <td>nabe_StoneBr</td>\n",
       "      <td>-73128.476921</td>\n",
       "    </tr>\n",
       "    <tr>\n",
       "      <th>28</th>\n",
       "      <td>nabe_MeadowV</td>\n",
       "      <td>-74095.849745</td>\n",
       "    </tr>\n",
       "    <tr>\n",
       "      <th>17</th>\n",
       "      <td>nabe_Blmngtn</td>\n",
       "      <td>-75470.464053</td>\n",
       "    </tr>\n",
       "    <tr>\n",
       "      <th>26</th>\n",
       "      <td>nabe_Greens</td>\n",
       "      <td>-77226.366530</td>\n",
       "    </tr>\n",
       "    <tr>\n",
       "      <th>31</th>\n",
       "      <td>nabe_NPkVill</td>\n",
       "      <td>-80702.578246</td>\n",
       "    </tr>\n",
       "    <tr>\n",
       "      <th>18</th>\n",
       "      <td>nabe_Blueste</td>\n",
       "      <td>-82596.901027</td>\n",
       "    </tr>\n",
       "  </tbody>\n",
       "</table>\n",
       "</div>"
      ],
      "text/plain": [
       "             Feature   Coefficient\n",
       "14     has_fireplace  14934.061797\n",
       "3       overall_qual  10751.566090\n",
       "13          has_bsmt   9098.486013\n",
       "9        garage_cars   7806.731825\n",
       "12       total_baths   7714.095198\n",
       "15         has_porch   6423.467589\n",
       "43   house_type_1Fam   4625.916030\n",
       "11       garage_cond   4175.007778\n",
       "52         new_remod   2813.386526\n",
       "51         new_house   1469.790121\n",
       "5          bsmt_qual   1328.825934\n",
       "1       lot_frontage    141.983350\n",
       "7        gr_liv_area     45.015242\n",
       "0                 id      0.337752\n",
       "2           lot_area      0.018705\n",
       "6      total_bsmt_sf     -2.190388\n",
       "4       mas_vnr_area    -39.172700\n",
       "49         house_age   -223.486083\n",
       "50         remod_age   -278.255917\n",
       "45  house_type_Twnhs   -411.824636\n",
       "48         fnd_PConc  -2451.357563\n",
       "8      totrms_abvgrd  -3706.108106\n",
       "44  house_type_2_fam  -4214.091394\n",
       "10       garage_qual  -4924.348361\n",
       "47        fnd_CBlock  -5508.614092\n",
       "46        fnd_BrkTil -10882.779770\n",
       "16       has_2nd_flr -12245.332574\n",
       "42      nabe_Veenker -23966.228268\n",
       "23      nabe_Crawfor -29749.642769\n",
       "33      nabe_NoRidge -36282.205870\n",
       "41       nabe_Timber -39118.702851\n",
       "21      nabe_ClearCr -41636.578389\n",
       "34      nabe_NridgHt -49325.576878\n",
       "39      nabe_Somerst -51667.061870\n",
       "32       nabe_NWAmes -54507.325668\n",
       "20      nabe_BrkSide -55114.977431\n",
       "36        nabe_SWISU -56874.651694\n",
       "30        nabe_NAmes -56909.440648\n",
       "19       nabe_BrDale -59065.497474\n",
       "22      nabe_CollgCr -59085.762280\n",
       "29      nabe_Mitchel -59097.510788\n",
       "38      nabe_SawyerW -61787.116914\n",
       "37       nabe_Sawyer -64975.402714\n",
       "35      nabe_OldTown -65048.304277\n",
       "24      nabe_Edwards -65859.410134\n",
       "27       nabe_IDOTRR -67654.541394\n",
       "25      nabe_Gilbert -72021.080242\n",
       "40      nabe_StoneBr -73128.476921\n",
       "28      nabe_MeadowV -74095.849745\n",
       "17      nabe_Blmngtn -75470.464053\n",
       "26       nabe_Greens -77226.366530\n",
       "31      nabe_NPkVill -80702.578246\n",
       "18      nabe_Blueste -82596.901027"
      ]
     },
     "execution_count": 73,
     "metadata": {},
     "output_type": "execute_result"
    }
   ],
   "source": [
    "pd.DataFrame(list(zip(features, lr.coef_)), columns=['Feature', 'Coefficient']).sort_values(by='Coefficient',\n",
    "                                                                                               ascending=False)"
   ]
  },
  {
   "cell_type": "markdown",
   "metadata": {},
   "source": [
    "# Conclusions"
   ]
  },
  {
   "cell_type": "markdown",
   "metadata": {},
   "source": [
    " - Baseline RMSE: 68540.0\n",
    "\n",
    " - Linear model RMSE: 39068.43562861566\n",
    " - Ridge model RMSE: 39068.82347752014\n",
    " - LASSO model RMSE: 39068.22571364279 \n",
    "\n",
    "When comparing the three models and their RMSE, the Lasso model had the lowest RMSE score (very small difference). The high RMSE score most likely means that the models were overfitted. However, compared to the baseline, the models had the smaller RMSE. I believe the models would make a better prediction if the neighboorhood feature was not dummified since it only added numerous uncorrelated variables that decreased the effectives of the models. "
   ]
  },
  {
   "cell_type": "markdown",
   "metadata": {},
   "source": [
    "The variable that is most reliable feature that increases the sale price is above grade (ground) living area square feet, 'gr_liv_area. That would be expected as the sale price of real estate property is strongly corrareled with its living space. The neighborhoods had the lower correlation with the price as well as having a second floor. We can confidently conclude that home buyers prefer one level houses with larger lviing area.\n",
    "\n",
    "\n",
    "Other variables such as pool or basement made little to no difference in the prediction. Having a basement or its ordinal features made little difference when predicting the price since almost every house in the data had a basement. Pool was the opposite, it was a feature only a few houses had."
   ]
  }
 ],
 "metadata": {
  "kernelspec": {
   "display_name": "Python 3",
   "language": "python",
   "name": "python3"
  },
  "language_info": {
   "codemirror_mode": {
    "name": "ipython",
    "version": 3
   },
   "file_extension": ".py",
   "mimetype": "text/x-python",
   "name": "python",
   "nbconvert_exporter": "python",
   "pygments_lexer": "ipython3",
   "version": "3.8.3"
  }
 },
 "nbformat": 4,
 "nbformat_minor": 4
}
